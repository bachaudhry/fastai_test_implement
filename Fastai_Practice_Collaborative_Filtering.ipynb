{
 "cells": [
  {
   "cell_type": "markdown",
   "metadata": {},
   "source": [
    "# Collaborative Filtering - Using Fastai on Movielens 100K"
   ]
  },
  {
   "cell_type": "code",
   "execution_count": 1,
   "metadata": {},
   "outputs": [],
   "source": [
    "from fastai.collab import *\n",
    "from fastai.tabular import *"
   ]
  },
  {
   "cell_type": "markdown",
   "metadata": {},
   "source": [
    "For this exercise, we will be using the `Movielens 100K` dataset, as shown by Jeremy Howard during his deep learning course.\n",
    "\n",
    "The dataset is available for immediate download from the following [link](http://files.grouplens.org/datasets/movielens/ml-100k.zip)."
   ]
  },
  {
   "cell_type": "markdown",
   "metadata": {},
   "source": [
    "## Prepping the Dataset"
   ]
  },
  {
   "cell_type": "code",
   "execution_count": 2,
   "metadata": {},
   "outputs": [],
   "source": [
    "PATH = '/home/bilal/.fastai/data/ml-100k/'"
   ]
  },
  {
   "cell_type": "code",
   "execution_count": 3,
   "metadata": {},
   "outputs": [],
   "source": [
    "# Assigning string values to user, item, title fields\n",
    "# Titles will be \n",
    "user, item, title = 'userId', 'movieId', 'title'"
   ]
  },
  {
   "cell_type": "code",
   "execution_count": 4,
   "metadata": {},
   "outputs": [
    {
     "data": {
      "text/html": [
       "<div>\n",
       "<style scoped>\n",
       "    .dataframe tbody tr th:only-of-type {\n",
       "        vertical-align: middle;\n",
       "    }\n",
       "\n",
       "    .dataframe tbody tr th {\n",
       "        vertical-align: top;\n",
       "    }\n",
       "\n",
       "    .dataframe thead th {\n",
       "        text-align: right;\n",
       "    }\n",
       "</style>\n",
       "<table border=\"1\" class=\"dataframe\">\n",
       "  <thead>\n",
       "    <tr style=\"text-align: right;\">\n",
       "      <th></th>\n",
       "      <th>userId</th>\n",
       "      <th>movieId</th>\n",
       "      <th>rating</th>\n",
       "      <th>timestamp</th>\n",
       "    </tr>\n",
       "  </thead>\n",
       "  <tbody>\n",
       "    <tr>\n",
       "      <th>0</th>\n",
       "      <td>196</td>\n",
       "      <td>242</td>\n",
       "      <td>3</td>\n",
       "      <td>881250949</td>\n",
       "    </tr>\n",
       "    <tr>\n",
       "      <th>1</th>\n",
       "      <td>186</td>\n",
       "      <td>302</td>\n",
       "      <td>3</td>\n",
       "      <td>891717742</td>\n",
       "    </tr>\n",
       "    <tr>\n",
       "      <th>2</th>\n",
       "      <td>22</td>\n",
       "      <td>377</td>\n",
       "      <td>1</td>\n",
       "      <td>878887116</td>\n",
       "    </tr>\n",
       "    <tr>\n",
       "      <th>3</th>\n",
       "      <td>244</td>\n",
       "      <td>51</td>\n",
       "      <td>2</td>\n",
       "      <td>880606923</td>\n",
       "    </tr>\n",
       "    <tr>\n",
       "      <th>4</th>\n",
       "      <td>166</td>\n",
       "      <td>346</td>\n",
       "      <td>1</td>\n",
       "      <td>886397596</td>\n",
       "    </tr>\n",
       "    <tr>\n",
       "      <th>5</th>\n",
       "      <td>298</td>\n",
       "      <td>474</td>\n",
       "      <td>4</td>\n",
       "      <td>884182806</td>\n",
       "    </tr>\n",
       "    <tr>\n",
       "      <th>6</th>\n",
       "      <td>115</td>\n",
       "      <td>265</td>\n",
       "      <td>2</td>\n",
       "      <td>881171488</td>\n",
       "    </tr>\n",
       "    <tr>\n",
       "      <th>7</th>\n",
       "      <td>253</td>\n",
       "      <td>465</td>\n",
       "      <td>5</td>\n",
       "      <td>891628467</td>\n",
       "    </tr>\n",
       "    <tr>\n",
       "      <th>8</th>\n",
       "      <td>305</td>\n",
       "      <td>451</td>\n",
       "      <td>3</td>\n",
       "      <td>886324817</td>\n",
       "    </tr>\n",
       "    <tr>\n",
       "      <th>9</th>\n",
       "      <td>6</td>\n",
       "      <td>86</td>\n",
       "      <td>3</td>\n",
       "      <td>883603013</td>\n",
       "    </tr>\n",
       "  </tbody>\n",
       "</table>\n",
       "</div>"
      ],
      "text/plain": [
       "   userId  movieId  rating  timestamp\n",
       "0     196      242       3  881250949\n",
       "1     186      302       3  891717742\n",
       "2      22      377       1  878887116\n",
       "3     244       51       2  880606923\n",
       "4     166      346       1  886397596\n",
       "5     298      474       4  884182806\n",
       "6     115      265       2  881171488\n",
       "7     253      465       5  891628467\n",
       "8     305      451       3  886324817\n",
       "9       6       86       3  883603013"
      ]
     },
     "execution_count": 4,
     "metadata": {},
     "output_type": "execute_result"
    }
   ],
   "source": [
    "# Getting ratings from the file which is similarly named\n",
    "ratings = pd.read_csv(f'{PATH}u.data', delimiter='\\t', header=None,\n",
    "                      names=[user, item, 'rating', 'timestamp'])\n",
    "ratings.head(10)"
   ]
  },
  {
   "cell_type": "code",
   "execution_count": 5,
   "metadata": {},
   "outputs": [
    {
     "data": {
      "text/html": [
       "<div>\n",
       "<style scoped>\n",
       "    .dataframe tbody tr th:only-of-type {\n",
       "        vertical-align: middle;\n",
       "    }\n",
       "\n",
       "    .dataframe tbody tr th {\n",
       "        vertical-align: top;\n",
       "    }\n",
       "\n",
       "    .dataframe thead th {\n",
       "        text-align: right;\n",
       "    }\n",
       "</style>\n",
       "<table border=\"1\" class=\"dataframe\">\n",
       "  <thead>\n",
       "    <tr style=\"text-align: right;\">\n",
       "      <th></th>\n",
       "      <th>movieId</th>\n",
       "      <th>title</th>\n",
       "      <th>date</th>\n",
       "      <th>N</th>\n",
       "      <th>url</th>\n",
       "      <th>g0</th>\n",
       "      <th>g1</th>\n",
       "      <th>g2</th>\n",
       "      <th>g3</th>\n",
       "      <th>g4</th>\n",
       "      <th>...</th>\n",
       "      <th>g9</th>\n",
       "      <th>g10</th>\n",
       "      <th>g11</th>\n",
       "      <th>g12</th>\n",
       "      <th>g13</th>\n",
       "      <th>g14</th>\n",
       "      <th>g15</th>\n",
       "      <th>g16</th>\n",
       "      <th>g17</th>\n",
       "      <th>g18</th>\n",
       "    </tr>\n",
       "  </thead>\n",
       "  <tbody>\n",
       "    <tr>\n",
       "      <th>0</th>\n",
       "      <td>1</td>\n",
       "      <td>Toy Story (1995)</td>\n",
       "      <td>01-Jan-1995</td>\n",
       "      <td>NaN</td>\n",
       "      <td>http://us.imdb.com/M/title-exact?Toy%20Story%2...</td>\n",
       "      <td>0</td>\n",
       "      <td>0</td>\n",
       "      <td>0</td>\n",
       "      <td>1</td>\n",
       "      <td>1</td>\n",
       "      <td>...</td>\n",
       "      <td>0</td>\n",
       "      <td>0</td>\n",
       "      <td>0</td>\n",
       "      <td>0</td>\n",
       "      <td>0</td>\n",
       "      <td>0</td>\n",
       "      <td>0</td>\n",
       "      <td>0</td>\n",
       "      <td>0</td>\n",
       "      <td>0</td>\n",
       "    </tr>\n",
       "    <tr>\n",
       "      <th>1</th>\n",
       "      <td>2</td>\n",
       "      <td>GoldenEye (1995)</td>\n",
       "      <td>01-Jan-1995</td>\n",
       "      <td>NaN</td>\n",
       "      <td>http://us.imdb.com/M/title-exact?GoldenEye%20(...</td>\n",
       "      <td>0</td>\n",
       "      <td>1</td>\n",
       "      <td>1</td>\n",
       "      <td>0</td>\n",
       "      <td>0</td>\n",
       "      <td>...</td>\n",
       "      <td>0</td>\n",
       "      <td>0</td>\n",
       "      <td>0</td>\n",
       "      <td>0</td>\n",
       "      <td>0</td>\n",
       "      <td>0</td>\n",
       "      <td>0</td>\n",
       "      <td>1</td>\n",
       "      <td>0</td>\n",
       "      <td>0</td>\n",
       "    </tr>\n",
       "    <tr>\n",
       "      <th>2</th>\n",
       "      <td>3</td>\n",
       "      <td>Four Rooms (1995)</td>\n",
       "      <td>01-Jan-1995</td>\n",
       "      <td>NaN</td>\n",
       "      <td>http://us.imdb.com/M/title-exact?Four%20Rooms%...</td>\n",
       "      <td>0</td>\n",
       "      <td>0</td>\n",
       "      <td>0</td>\n",
       "      <td>0</td>\n",
       "      <td>0</td>\n",
       "      <td>...</td>\n",
       "      <td>0</td>\n",
       "      <td>0</td>\n",
       "      <td>0</td>\n",
       "      <td>0</td>\n",
       "      <td>0</td>\n",
       "      <td>0</td>\n",
       "      <td>0</td>\n",
       "      <td>1</td>\n",
       "      <td>0</td>\n",
       "      <td>0</td>\n",
       "    </tr>\n",
       "    <tr>\n",
       "      <th>3</th>\n",
       "      <td>4</td>\n",
       "      <td>Get Shorty (1995)</td>\n",
       "      <td>01-Jan-1995</td>\n",
       "      <td>NaN</td>\n",
       "      <td>http://us.imdb.com/M/title-exact?Get%20Shorty%...</td>\n",
       "      <td>0</td>\n",
       "      <td>1</td>\n",
       "      <td>0</td>\n",
       "      <td>0</td>\n",
       "      <td>0</td>\n",
       "      <td>...</td>\n",
       "      <td>0</td>\n",
       "      <td>0</td>\n",
       "      <td>0</td>\n",
       "      <td>0</td>\n",
       "      <td>0</td>\n",
       "      <td>0</td>\n",
       "      <td>0</td>\n",
       "      <td>0</td>\n",
       "      <td>0</td>\n",
       "      <td>0</td>\n",
       "    </tr>\n",
       "    <tr>\n",
       "      <th>4</th>\n",
       "      <td>5</td>\n",
       "      <td>Copycat (1995)</td>\n",
       "      <td>01-Jan-1995</td>\n",
       "      <td>NaN</td>\n",
       "      <td>http://us.imdb.com/M/title-exact?Copycat%20(1995)</td>\n",
       "      <td>0</td>\n",
       "      <td>0</td>\n",
       "      <td>0</td>\n",
       "      <td>0</td>\n",
       "      <td>0</td>\n",
       "      <td>...</td>\n",
       "      <td>0</td>\n",
       "      <td>0</td>\n",
       "      <td>0</td>\n",
       "      <td>0</td>\n",
       "      <td>0</td>\n",
       "      <td>0</td>\n",
       "      <td>0</td>\n",
       "      <td>1</td>\n",
       "      <td>0</td>\n",
       "      <td>0</td>\n",
       "    </tr>\n",
       "    <tr>\n",
       "      <th>5</th>\n",
       "      <td>6</td>\n",
       "      <td>Shanghai Triad (Yao a yao yao dao waipo qiao) ...</td>\n",
       "      <td>01-Jan-1995</td>\n",
       "      <td>NaN</td>\n",
       "      <td>http://us.imdb.com/Title?Yao+a+yao+yao+dao+wai...</td>\n",
       "      <td>0</td>\n",
       "      <td>0</td>\n",
       "      <td>0</td>\n",
       "      <td>0</td>\n",
       "      <td>0</td>\n",
       "      <td>...</td>\n",
       "      <td>0</td>\n",
       "      <td>0</td>\n",
       "      <td>0</td>\n",
       "      <td>0</td>\n",
       "      <td>0</td>\n",
       "      <td>0</td>\n",
       "      <td>0</td>\n",
       "      <td>0</td>\n",
       "      <td>0</td>\n",
       "      <td>0</td>\n",
       "    </tr>\n",
       "    <tr>\n",
       "      <th>6</th>\n",
       "      <td>7</td>\n",
       "      <td>Twelve Monkeys (1995)</td>\n",
       "      <td>01-Jan-1995</td>\n",
       "      <td>NaN</td>\n",
       "      <td>http://us.imdb.com/M/title-exact?Twelve%20Monk...</td>\n",
       "      <td>0</td>\n",
       "      <td>0</td>\n",
       "      <td>0</td>\n",
       "      <td>0</td>\n",
       "      <td>0</td>\n",
       "      <td>...</td>\n",
       "      <td>0</td>\n",
       "      <td>0</td>\n",
       "      <td>0</td>\n",
       "      <td>0</td>\n",
       "      <td>0</td>\n",
       "      <td>0</td>\n",
       "      <td>1</td>\n",
       "      <td>0</td>\n",
       "      <td>0</td>\n",
       "      <td>0</td>\n",
       "    </tr>\n",
       "    <tr>\n",
       "      <th>7</th>\n",
       "      <td>8</td>\n",
       "      <td>Babe (1995)</td>\n",
       "      <td>01-Jan-1995</td>\n",
       "      <td>NaN</td>\n",
       "      <td>http://us.imdb.com/M/title-exact?Babe%20(1995)</td>\n",
       "      <td>0</td>\n",
       "      <td>0</td>\n",
       "      <td>0</td>\n",
       "      <td>0</td>\n",
       "      <td>1</td>\n",
       "      <td>...</td>\n",
       "      <td>0</td>\n",
       "      <td>0</td>\n",
       "      <td>0</td>\n",
       "      <td>0</td>\n",
       "      <td>0</td>\n",
       "      <td>0</td>\n",
       "      <td>0</td>\n",
       "      <td>0</td>\n",
       "      <td>0</td>\n",
       "      <td>0</td>\n",
       "    </tr>\n",
       "    <tr>\n",
       "      <th>8</th>\n",
       "      <td>9</td>\n",
       "      <td>Dead Man Walking (1995)</td>\n",
       "      <td>01-Jan-1995</td>\n",
       "      <td>NaN</td>\n",
       "      <td>http://us.imdb.com/M/title-exact?Dead%20Man%20...</td>\n",
       "      <td>0</td>\n",
       "      <td>0</td>\n",
       "      <td>0</td>\n",
       "      <td>0</td>\n",
       "      <td>0</td>\n",
       "      <td>...</td>\n",
       "      <td>0</td>\n",
       "      <td>0</td>\n",
       "      <td>0</td>\n",
       "      <td>0</td>\n",
       "      <td>0</td>\n",
       "      <td>0</td>\n",
       "      <td>0</td>\n",
       "      <td>0</td>\n",
       "      <td>0</td>\n",
       "      <td>0</td>\n",
       "    </tr>\n",
       "    <tr>\n",
       "      <th>9</th>\n",
       "      <td>10</td>\n",
       "      <td>Richard III (1995)</td>\n",
       "      <td>22-Jan-1996</td>\n",
       "      <td>NaN</td>\n",
       "      <td>http://us.imdb.com/M/title-exact?Richard%20III...</td>\n",
       "      <td>0</td>\n",
       "      <td>0</td>\n",
       "      <td>0</td>\n",
       "      <td>0</td>\n",
       "      <td>0</td>\n",
       "      <td>...</td>\n",
       "      <td>0</td>\n",
       "      <td>0</td>\n",
       "      <td>0</td>\n",
       "      <td>0</td>\n",
       "      <td>0</td>\n",
       "      <td>0</td>\n",
       "      <td>0</td>\n",
       "      <td>0</td>\n",
       "      <td>1</td>\n",
       "      <td>0</td>\n",
       "    </tr>\n",
       "  </tbody>\n",
       "</table>\n",
       "<p>10 rows × 24 columns</p>\n",
       "</div>"
      ],
      "text/plain": [
       "   movieId                                              title         date  \\\n",
       "0        1                                   Toy Story (1995)  01-Jan-1995   \n",
       "1        2                                   GoldenEye (1995)  01-Jan-1995   \n",
       "2        3                                  Four Rooms (1995)  01-Jan-1995   \n",
       "3        4                                  Get Shorty (1995)  01-Jan-1995   \n",
       "4        5                                     Copycat (1995)  01-Jan-1995   \n",
       "5        6  Shanghai Triad (Yao a yao yao dao waipo qiao) ...  01-Jan-1995   \n",
       "6        7                              Twelve Monkeys (1995)  01-Jan-1995   \n",
       "7        8                                        Babe (1995)  01-Jan-1995   \n",
       "8        9                            Dead Man Walking (1995)  01-Jan-1995   \n",
       "9       10                                 Richard III (1995)  22-Jan-1996   \n",
       "\n",
       "    N                                                url  g0  g1  g2  g3  g4  \\\n",
       "0 NaN  http://us.imdb.com/M/title-exact?Toy%20Story%2...   0   0   0   1   1   \n",
       "1 NaN  http://us.imdb.com/M/title-exact?GoldenEye%20(...   0   1   1   0   0   \n",
       "2 NaN  http://us.imdb.com/M/title-exact?Four%20Rooms%...   0   0   0   0   0   \n",
       "3 NaN  http://us.imdb.com/M/title-exact?Get%20Shorty%...   0   1   0   0   0   \n",
       "4 NaN  http://us.imdb.com/M/title-exact?Copycat%20(1995)   0   0   0   0   0   \n",
       "5 NaN  http://us.imdb.com/Title?Yao+a+yao+yao+dao+wai...   0   0   0   0   0   \n",
       "6 NaN  http://us.imdb.com/M/title-exact?Twelve%20Monk...   0   0   0   0   0   \n",
       "7 NaN     http://us.imdb.com/M/title-exact?Babe%20(1995)   0   0   0   0   1   \n",
       "8 NaN  http://us.imdb.com/M/title-exact?Dead%20Man%20...   0   0   0   0   0   \n",
       "9 NaN  http://us.imdb.com/M/title-exact?Richard%20III...   0   0   0   0   0   \n",
       "\n",
       "   ...  g9  g10  g11  g12  g13  g14  g15  g16  g17  g18  \n",
       "0  ...   0    0    0    0    0    0    0    0    0    0  \n",
       "1  ...   0    0    0    0    0    0    0    1    0    0  \n",
       "2  ...   0    0    0    0    0    0    0    1    0    0  \n",
       "3  ...   0    0    0    0    0    0    0    0    0    0  \n",
       "4  ...   0    0    0    0    0    0    0    1    0    0  \n",
       "5  ...   0    0    0    0    0    0    0    0    0    0  \n",
       "6  ...   0    0    0    0    0    0    1    0    0    0  \n",
       "7  ...   0    0    0    0    0    0    0    0    0    0  \n",
       "8  ...   0    0    0    0    0    0    0    0    0    0  \n",
       "9  ...   0    0    0    0    0    0    0    0    1    0  \n",
       "\n",
       "[10 rows x 24 columns]"
      ]
     },
     "execution_count": 5,
     "metadata": {},
     "output_type": "execute_result"
    }
   ],
   "source": [
    "# Now, lets get movie titles and their corresponding ratings\n",
    "movies = pd.read_csv(f'{PATH}u.item', delimiter='|', encoding='latin-1', header=None,\n",
    "                     names=[item, 'title', 'date', 'N', 'url', *[f'g{i}' for i in range (19)]])\n",
    "movies.head(10)"
   ]
  },
  {
   "cell_type": "code",
   "execution_count": 6,
   "metadata": {},
   "outputs": [
    {
     "data": {
      "text/plain": [
       "(100000, 1682)"
      ]
     },
     "execution_count": 6,
     "metadata": {},
     "output_type": "execute_result"
    }
   ],
   "source": [
    "# Getting the dimensions of the two DataFrames\n",
    "len(ratings), len(movies)"
   ]
  },
  {
   "cell_type": "markdown",
   "metadata": {},
   "source": [
    "Initially, we will merge the titles of the movies with the ratings data frame to improve the clarity of our Collaborative Filtering model's predictions. Later on, we will also add additional user information fields to make our model more generalizable."
   ]
  },
  {
   "cell_type": "code",
   "execution_count": 7,
   "metadata": {},
   "outputs": [
    {
     "data": {
      "text/html": [
       "<div>\n",
       "<style scoped>\n",
       "    .dataframe tbody tr th:only-of-type {\n",
       "        vertical-align: middle;\n",
       "    }\n",
       "\n",
       "    .dataframe tbody tr th {\n",
       "        vertical-align: top;\n",
       "    }\n",
       "\n",
       "    .dataframe thead th {\n",
       "        text-align: right;\n",
       "    }\n",
       "</style>\n",
       "<table border=\"1\" class=\"dataframe\">\n",
       "  <thead>\n",
       "    <tr style=\"text-align: right;\">\n",
       "      <th></th>\n",
       "      <th>userId</th>\n",
       "      <th>movieId</th>\n",
       "      <th>rating</th>\n",
       "      <th>timestamp</th>\n",
       "      <th>title</th>\n",
       "    </tr>\n",
       "  </thead>\n",
       "  <tbody>\n",
       "    <tr>\n",
       "      <th>0</th>\n",
       "      <td>196</td>\n",
       "      <td>242</td>\n",
       "      <td>3</td>\n",
       "      <td>881250949</td>\n",
       "      <td>Kolya (1996)</td>\n",
       "    </tr>\n",
       "    <tr>\n",
       "      <th>1</th>\n",
       "      <td>63</td>\n",
       "      <td>242</td>\n",
       "      <td>3</td>\n",
       "      <td>875747190</td>\n",
       "      <td>Kolya (1996)</td>\n",
       "    </tr>\n",
       "    <tr>\n",
       "      <th>2</th>\n",
       "      <td>226</td>\n",
       "      <td>242</td>\n",
       "      <td>5</td>\n",
       "      <td>883888671</td>\n",
       "      <td>Kolya (1996)</td>\n",
       "    </tr>\n",
       "    <tr>\n",
       "      <th>3</th>\n",
       "      <td>154</td>\n",
       "      <td>242</td>\n",
       "      <td>3</td>\n",
       "      <td>879138235</td>\n",
       "      <td>Kolya (1996)</td>\n",
       "    </tr>\n",
       "    <tr>\n",
       "      <th>4</th>\n",
       "      <td>306</td>\n",
       "      <td>242</td>\n",
       "      <td>5</td>\n",
       "      <td>876503793</td>\n",
       "      <td>Kolya (1996)</td>\n",
       "    </tr>\n",
       "    <tr>\n",
       "      <th>5</th>\n",
       "      <td>296</td>\n",
       "      <td>242</td>\n",
       "      <td>4</td>\n",
       "      <td>884196057</td>\n",
       "      <td>Kolya (1996)</td>\n",
       "    </tr>\n",
       "    <tr>\n",
       "      <th>6</th>\n",
       "      <td>34</td>\n",
       "      <td>242</td>\n",
       "      <td>5</td>\n",
       "      <td>888601628</td>\n",
       "      <td>Kolya (1996)</td>\n",
       "    </tr>\n",
       "    <tr>\n",
       "      <th>7</th>\n",
       "      <td>271</td>\n",
       "      <td>242</td>\n",
       "      <td>4</td>\n",
       "      <td>885844495</td>\n",
       "      <td>Kolya (1996)</td>\n",
       "    </tr>\n",
       "    <tr>\n",
       "      <th>8</th>\n",
       "      <td>201</td>\n",
       "      <td>242</td>\n",
       "      <td>4</td>\n",
       "      <td>884110598</td>\n",
       "      <td>Kolya (1996)</td>\n",
       "    </tr>\n",
       "    <tr>\n",
       "      <th>9</th>\n",
       "      <td>209</td>\n",
       "      <td>242</td>\n",
       "      <td>4</td>\n",
       "      <td>883589606</td>\n",
       "      <td>Kolya (1996)</td>\n",
       "    </tr>\n",
       "  </tbody>\n",
       "</table>\n",
       "</div>"
      ],
      "text/plain": [
       "   userId  movieId  rating  timestamp         title\n",
       "0     196      242       3  881250949  Kolya (1996)\n",
       "1      63      242       3  875747190  Kolya (1996)\n",
       "2     226      242       5  883888671  Kolya (1996)\n",
       "3     154      242       3  879138235  Kolya (1996)\n",
       "4     306      242       5  876503793  Kolya (1996)\n",
       "5     296      242       4  884196057  Kolya (1996)\n",
       "6      34      242       5  888601628  Kolya (1996)\n",
       "7     271      242       4  885844495  Kolya (1996)\n",
       "8     201      242       4  884110598  Kolya (1996)\n",
       "9     209      242       4  883589606  Kolya (1996)"
      ]
     },
     "execution_count": 7,
     "metadata": {},
     "output_type": "execute_result"
    }
   ],
   "source": [
    "# Merging ratings and movie DFs\n",
    "rating_movie = ratings.merge(movies[[item, title]])\n",
    "rating_movie.head(10)"
   ]
  },
  {
   "cell_type": "markdown",
   "metadata": {},
   "source": [
    "**Creating DataBunch for the model from the `CollabDataBunch` class.**"
   ]
  },
  {
   "cell_type": "code",
   "execution_count": 8,
   "metadata": {},
   "outputs": [],
   "source": [
    "data = CollabDataBunch.from_df(rating_movie, seed=42, valid_pct=0.1, item_name=title)"
   ]
  },
  {
   "cell_type": "code",
   "execution_count": 9,
   "metadata": {},
   "outputs": [
    {
     "data": {
      "text/html": [
       "<table border=\"1\" class=\"dataframe\">\n",
       "  <thead>\n",
       "    <tr style=\"text-align: right;\">\n",
       "      <th>userId</th>\n",
       "      <th>title</th>\n",
       "      <th>target</th>\n",
       "    </tr>\n",
       "  </thead>\n",
       "  <tbody>\n",
       "    <tr>\n",
       "      <td>741</td>\n",
       "      <td>Silence of the Lambs, The (1991)</td>\n",
       "      <td>5.0</td>\n",
       "    </tr>\n",
       "    <tr>\n",
       "      <td>234</td>\n",
       "      <td>That Darn Cat! (1997)</td>\n",
       "      <td>2.0</td>\n",
       "    </tr>\n",
       "    <tr>\n",
       "      <td>325</td>\n",
       "      <td>Close Shave, A (1995)</td>\n",
       "      <td>5.0</td>\n",
       "    </tr>\n",
       "    <tr>\n",
       "      <td>883</td>\n",
       "      <td>Empire Strikes Back, The (1980)</td>\n",
       "      <td>4.0</td>\n",
       "    </tr>\n",
       "    <tr>\n",
       "      <td>679</td>\n",
       "      <td>Mary Poppins (1964)</td>\n",
       "      <td>3.0</td>\n",
       "    </tr>\n",
       "  </tbody>\n",
       "</table>"
      ],
      "text/plain": [
       "<IPython.core.display.HTML object>"
      ]
     },
     "metadata": {},
     "output_type": "display_data"
    }
   ],
   "source": [
    "data.show_batch()"
   ]
  },
  {
   "cell_type": "markdown",
   "metadata": {},
   "source": [
    "During the lesson, it was mentioned that the sigmoid function used during training asymptotes to the lower and upper ranges. There are a number of movies which have a rating of 1 or 5, so we will increase the range of target outputs.\n",
    "\n",
    "This tweak makes the process of learning \"easier\", since the model knows the exact range of outputs and doesn't have to predict too little or too much."
   ]
  },
  {
   "cell_type": "code",
   "execution_count": 10,
   "metadata": {},
   "outputs": [],
   "source": [
    "# Setting the lower and upper bounds of predictions\n",
    "# with the upper bound being 0.5 larger than the highest prediction\n",
    "y_range = [0, 5.5]"
   ]
  },
  {
   "cell_type": "markdown",
   "metadata": {},
   "source": [
    "## Training Collab. Model"
   ]
  },
  {
   "cell_type": "code",
   "execution_count": 11,
   "metadata": {},
   "outputs": [],
   "source": [
    "# Creating learner with 40 latent factors which happens to be the width of the\n",
    "# embedding matrix\n",
    "# Experiments can be done with 10, 20, 30 etc latent factors\n",
    "learner = collab_learner(data, n_factors=40, y_range=y_range, wd=1e-1)"
   ]
  },
  {
   "cell_type": "code",
   "execution_count": 12,
   "metadata": {},
   "outputs": [
    {
     "data": {
      "text/html": [
       "\n",
       "    <div>\n",
       "        <style>\n",
       "            /* Turns off some styling */\n",
       "            progress {\n",
       "                /* gets rid of default border in Firefox and Opera. */\n",
       "                border: none;\n",
       "                /* Needs to be in here for Safari polyfill so background images work as expected. */\n",
       "                background-size: auto;\n",
       "            }\n",
       "            .progress-bar-interrupted, .progress-bar-interrupted::-webkit-progress-bar {\n",
       "                background: #F44336;\n",
       "            }\n",
       "        </style>\n",
       "      <progress value='0' class='' max='1', style='width:300px; height:20px; vertical-align: middle;'></progress>\n",
       "      0.00% [0/1 00:00<00:00]\n",
       "    </div>\n",
       "    \n",
       "<table border=\"1\" class=\"dataframe\">\n",
       "  <thead>\n",
       "    <tr style=\"text-align: left;\">\n",
       "      <th>epoch</th>\n",
       "      <th>train_loss</th>\n",
       "      <th>valid_loss</th>\n",
       "      <th>time</th>\n",
       "    </tr>\n",
       "  </thead>\n",
       "  <tbody>\n",
       "  </tbody>\n",
       "</table><p>\n",
       "\n",
       "    <div>\n",
       "        <style>\n",
       "            /* Turns off some styling */\n",
       "            progress {\n",
       "                /* gets rid of default border in Firefox and Opera. */\n",
       "                border: none;\n",
       "                /* Needs to be in here for Safari polyfill so background images work as expected. */\n",
       "                background-size: auto;\n",
       "            }\n",
       "            .progress-bar-interrupted, .progress-bar-interrupted::-webkit-progress-bar {\n",
       "                background: #F44336;\n",
       "            }\n",
       "        </style>\n",
       "      <progress value='84' class='' max='1406', style='width:300px; height:20px; vertical-align: middle;'></progress>\n",
       "      5.97% [84/1406 00:00<00:05 1.8530]\n",
       "    </div>\n",
       "    "
      ],
      "text/plain": [
       "<IPython.core.display.HTML object>"
      ]
     },
     "metadata": {},
     "output_type": "display_data"
    },
    {
     "name": "stdout",
     "output_type": "stream",
     "text": [
      "LR Finder is complete, type {learner_name}.recorder.plot() to see the graph.\n"
     ]
    },
    {
     "data": {
      "image/png": "[encoded data removed]",
      "text/plain": [
       "<Figure size 432x288 with 1 Axes>"
      ]
     },
     "metadata": {
      "needs_background": "light"
     },
     "output_type": "display_data"
    }
   ],
   "source": [
    "learner.lr_find()\n",
    "learner.recorder.plot(skip_end=15)"
   ]
  },
  {
   "cell_type": "code",
   "execution_count": 14,
   "metadata": {},
   "outputs": [
    {
     "data": {
      "text/html": [
       "<table border=\"1\" class=\"dataframe\">\n",
       "  <thead>\n",
       "    <tr style=\"text-align: left;\">\n",
       "      <th>epoch</th>\n",
       "      <th>train_loss</th>\n",
       "      <th>valid_loss</th>\n",
       "      <th>time</th>\n",
       "    </tr>\n",
       "  </thead>\n",
       "  <tbody>\n",
       "    <tr>\n",
       "      <td>0</td>\n",
       "      <td>0.974668</td>\n",
       "      <td>0.961702</td>\n",
       "      <td>00:03</td>\n",
       "    </tr>\n",
       "    <tr>\n",
       "      <td>1</td>\n",
       "      <td>0.898174</td>\n",
       "      <td>0.896343</td>\n",
       "      <td>00:03</td>\n",
       "    </tr>\n",
       "    <tr>\n",
       "      <td>2</td>\n",
       "      <td>0.796646</td>\n",
       "      <td>0.851175</td>\n",
       "      <td>00:03</td>\n",
       "    </tr>\n",
       "    <tr>\n",
       "      <td>3</td>\n",
       "      <td>0.722976</td>\n",
       "      <td>0.822289</td>\n",
       "      <td>00:03</td>\n",
       "    </tr>\n",
       "    <tr>\n",
       "      <td>4</td>\n",
       "      <td>0.608491</td>\n",
       "      <td>0.808730</td>\n",
       "      <td>00:03</td>\n",
       "    </tr>\n",
       "    <tr>\n",
       "      <td>5</td>\n",
       "      <td>0.554273</td>\n",
       "      <td>0.808808</td>\n",
       "      <td>00:03</td>\n",
       "    </tr>\n",
       "  </tbody>\n",
       "</table>"
      ],
      "text/plain": [
       "<IPython.core.display.HTML object>"
      ]
     },
     "metadata": {},
     "output_type": "display_data"
    }
   ],
   "source": [
    "# Fitting using one cycle learing policy\n",
    "learner.fit_one_cycle(6, 4e-3)"
   ]
  },
  {
   "cell_type": "code",
   "execution_count": 15,
   "metadata": {},
   "outputs": [],
   "source": [
    "# Saving the model\n",
    "learner.save('movie-100k')"
   ]
  },
  {
   "cell_type": "markdown",
   "metadata": {},
   "source": [
    "## Interpretation"
   ]
  },
  {
   "cell_type": "code",
   "execution_count": 16,
   "metadata": {},
   "outputs": [
    {
     "data": {
      "text/plain": [
       "CollabLearner(data=TabularDataBunch;\n",
       "\n",
       "Train: LabelList (90000 items)\n",
       "x: CollabList\n",
       "userId 196; title Kolya (1996); ,userId 63; title Kolya (1996); ,userId 226; title Kolya (1996); ,userId 154; title Kolya (1996); ,userId 306; title Kolya (1996); \n",
       "y: FloatList\n",
       "3.0,3.0,5.0,3.0,5.0\n",
       "Path: .;\n",
       "\n",
       "Valid: LabelList (10000 items)\n",
       "x: CollabList\n",
       "userId 498; title Casino (1995); ,userId 642; title Pocahontas (1995); ,userId 58; title 2001: A Space Odyssey (1968); ,userId 495; title Cat People (1982); ,userId 618; title Philadelphia (1993); \n",
       "y: FloatList\n",
       "3.0,5.0,4.0,3.0,3.0\n",
       "Path: .;\n",
       "\n",
       "Test: None, model=EmbeddingDotBias(\n",
       "  (u_weight): Embedding(944, 40)\n",
       "  (i_weight): Embedding(1654, 40)\n",
       "  (u_bias): Embedding(944, 1)\n",
       "  (i_bias): Embedding(1654, 1)\n",
       "), opt_func=functools.partial(<class 'torch.optim.adam.Adam'>, betas=(0.9, 0.99)), loss_func=FlattenedLoss of MSELoss(), metrics=[], true_wd=True, bn_wd=True, wd=0.1, train_bn=True, path=PosixPath('.'), model_dir='models', callback_fns=[functools.partial(<class 'fastai.basic_train.Recorder'>, add_time=True, silent=False)], callbacks=[], layer_groups=[Sequential(\n",
       "  (0): Embedding(944, 40)\n",
       "  (1): Embedding(1654, 40)\n",
       "  (2): Embedding(944, 1)\n",
       "  (3): Embedding(1654, 1)\n",
       ")], add_time=True, silent=False)"
      ]
     },
     "execution_count": 16,
     "metadata": {},
     "output_type": "execute_result"
    }
   ],
   "source": [
    "learner.load('movie-100k')"
   ]
  },
  {
   "cell_type": "code",
   "execution_count": 17,
   "metadata": {},
   "outputs": [],
   "source": [
    "# Grouping the rating_movie df and viewing top or bottom movie ratings\n",
    "g = rating_movie.groupby(title)['rating'].count()"
   ]
  },
  {
   "cell_type": "code",
   "execution_count": 18,
   "metadata": {},
   "outputs": [
    {
     "data": {
      "text/plain": [
       "array(['Star Wars (1977)', 'Contact (1997)', 'Fargo (1996)', 'Return of the Jedi (1983)', 'Liar Liar (1997)',\n",
       "       'English Patient, The (1996)', 'Scream (1996)', 'Toy Story (1995)', 'Air Force One (1997)',\n",
       "       'Independence Day (ID4) (1996)'], dtype=object)"
      ]
     },
     "execution_count": 18,
     "metadata": {},
     "output_type": "execute_result"
    }
   ],
   "source": [
    "# Getting top movies from the above\n",
    "top_m = g.sort_values(ascending=False).index.values[:1000]\n",
    "top_m[:10]"
   ]
  },
  {
   "cell_type": "code",
   "execution_count": 20,
   "metadata": {},
   "outputs": [
    {
     "data": {
      "text/plain": [
       "array(['Á köldum klaka (Cold Fever) (1994)', 'Mille bolle blu (1993)', \"Mat' i syn (1997)\",\n",
       "       'Marlene Dietrich: Shadow and Light (1996) ', 'Man from Down Under, The (1943)', 'Mamma Roma (1962)',\n",
       "       'Mad Dog Time (1996)', 'Big Bang Theory, The (1994)', 'MURDER and murder (1996)', 'Coldblooded (1995)'],\n",
       "      dtype=object)"
      ]
     },
     "execution_count": 20,
     "metadata": {},
     "output_type": "execute_result"
    }
   ],
   "source": [
    "# Getting the worst rated movies from the group\n",
    "bottom_m = g.sort_values(ascending=True).index.values[:1000]\n",
    "bottom_m[:10]"
   ]
  },
  {
   "cell_type": "markdown",
   "metadata": {},
   "source": [
    "### Interpretation for Movie Biases"
   ]
  },
  {
   "cell_type": "markdown",
   "metadata": {},
   "source": [
    "**Getting movie biases as items from our learner:**"
   ]
  },
  {
   "cell_type": "code",
   "execution_count": 22,
   "metadata": {},
   "outputs": [],
   "source": [
    "movie_bias = learner.bias(top_m, is_item=True)"
   ]
  },
  {
   "cell_type": "code",
   "execution_count": 23,
   "metadata": {},
   "outputs": [
    {
     "data": {
      "text/plain": [
       "torch.Size([1000])"
      ]
     },
     "execution_count": 23,
     "metadata": {},
     "output_type": "execute_result"
    }
   ],
   "source": [
    "# Shape of the bias vector\n",
    "movie_bias.shape"
   ]
  },
  {
   "cell_type": "code",
   "execution_count": 24,
   "metadata": {},
   "outputs": [],
   "source": [
    "# Getting mean ratings for the movies\n",
    "mean_ratings = rating_movie.groupby(title)['rating'].mean()\n",
    "# Generating list of tuples with top movies and their biases\n",
    "movie_ratings = [(b, i, mean_ratings.loc[i]) for i, b in zip(top_m, movie_bias)]"
   ]
  },
  {
   "cell_type": "code",
   "execution_count": 25,
   "metadata": {},
   "outputs": [],
   "source": [
    "# Lambda function for defaulting to the first item of the list of tuples\n",
    "item0 = lambda o: o[0]"
   ]
  },
  {
   "cell_type": "code",
   "execution_count": 27,
   "metadata": {},
   "outputs": [
    {
     "data": {
      "text/plain": [
       "[(tensor(-0.3549),\n",
       "  'Children of the Corn: The Gathering (1996)',\n",
       "  1.3157894736842106),\n",
       " (tensor(-0.2811),\n",
       "  'Lawnmower Man 2: Beyond Cyberspace (1996)',\n",
       "  1.7142857142857142),\n",
       " (tensor(-0.2619), 'Mortal Kombat: Annihilation (1997)', 1.9534883720930232),\n",
       " (tensor(-0.2488), 'Striptease (1996)', 2.2388059701492535),\n",
       " (tensor(-0.2438), 'Cable Guy, The (1996)', 2.339622641509434),\n",
       " (tensor(-0.2191), 'Barb Wire (1996)', 1.9333333333333333),\n",
       " (tensor(-0.2190), 'Thinner (1996)', 2.4489795918367347),\n",
       " (tensor(-0.2178), \"Joe's Apartment (1996)\", 2.2444444444444445),\n",
       " (tensor(-0.2146), 'Crow: City of Angels, The (1996)', 1.9487179487179487),\n",
       " (tensor(-0.2108), \"Stephen King's The Langoliers (1995)\", 2.413793103448276),\n",
       " (tensor(-0.2091), 'Beautician and the Beast, The (1997)', 2.313953488372093),\n",
       " (tensor(-0.2081), 'Grease 2 (1982)', 2.0),\n",
       " (tensor(-0.2053), 'Bio-Dome (1996)', 1.903225806451613),\n",
       " (tensor(-0.2005), 'Island of Dr. Moreau, The (1996)', 2.1578947368421053),\n",
       " (tensor(-0.1914), 'Showgirls (1995)', 1.9565217391304348),\n",
       " (tensor(-0.1913), 'Free Willy 3: The Rescue (1997)', 1.7407407407407407),\n",
       " (tensor(-0.1906), \"McHale's Navy (1997)\", 2.1884057971014492),\n",
       " (tensor(-0.1801), 'Beverly Hills Ninja (1997)', 2.3125),\n",
       " (tensor(-0.1798), 'Escape from L.A. (1996)', 2.4615384615384617),\n",
       " (tensor(-0.1743), 'Booty Call (1997)', 2.1666666666666665)]"
      ]
     },
     "execution_count": 27,
     "metadata": {},
     "output_type": "execute_result"
    }
   ],
   "source": [
    "# Print list of movies and the associated biases and mean ratings\n",
    "# this is for the movies with the lowest ratings\n",
    "sorted(movie_ratings, key=item0)[:20]"
   ]
  },
  {
   "cell_type": "code",
   "execution_count": 28,
   "metadata": {},
   "outputs": [
    {
     "data": {
      "text/plain": [
       "[(tensor(0.5661), \"Schindler's List (1993)\", 4.466442953020135),\n",
       " (tensor(0.5474), 'Titanic (1997)', 4.2457142857142856),\n",
       " (tensor(0.5306), 'Shawshank Redemption, The (1994)', 4.445229681978798),\n",
       " (tensor(0.5060), 'Silence of the Lambs, The (1991)', 4.28974358974359),\n",
       " (tensor(0.4978), 'L.A. Confidential (1997)', 4.161616161616162),\n",
       " (tensor(0.4759), 'As Good As It Gets (1997)', 4.196428571428571),\n",
       " (tensor(0.4701), 'Rear Window (1954)', 4.3875598086124405),\n",
       " (tensor(0.4672), 'Good Will Hunting (1997)', 4.262626262626263),\n",
       " (tensor(0.4671), 'Star Wars (1977)', 4.3584905660377355),\n",
       " (tensor(0.4499), 'Boot, Das (1981)', 4.203980099502488),\n",
       " (tensor(0.4345), 'Fugitive, The (1993)', 4.044642857142857),\n",
       " (tensor(0.4339), 'Godfather, The (1972)', 4.283292978208232),\n",
       " (tensor(0.4337), 'Casablanca (1942)', 4.45679012345679),\n",
       " (tensor(0.4330), 'Apt Pupil (1998)', 4.1),\n",
       " (tensor(0.4233), 'Vertigo (1958)', 4.251396648044692),\n",
       " (tensor(0.4105), 'To Kill a Mockingbird (1962)', 4.292237442922374),\n",
       " (tensor(0.4090), \"One Flew Over the Cuckoo's Nest (1975)\", 4.291666666666667),\n",
       " (tensor(0.4087), 'Usual Suspects, The (1995)', 4.385767790262173),\n",
       " (tensor(0.4029), 'Close Shave, A (1995)', 4.491071428571429),\n",
       " (tensor(0.4024), 'North by Northwest (1959)', 4.284916201117318)]"
      ]
     },
     "execution_count": 28,
     "metadata": {},
     "output_type": "execute_result"
    }
   ],
   "source": [
    "# Reversing the above for top rated movies and their biases\n",
    "sorted(movie_ratings, key=item0, reverse=True)[:20]"
   ]
  },
  {
   "cell_type": "markdown",
   "metadata": {},
   "source": [
    "### Interpretation for Movie Weights"
   ]
  },
  {
   "cell_type": "markdown",
   "metadata": {},
   "source": [
    "**Getting weights from our learner as items:**"
   ]
  },
  {
   "cell_type": "code",
   "execution_count": 36,
   "metadata": {},
   "outputs": [
    {
     "data": {
      "text/plain": [
       "torch.Size([1000, 40])"
      ]
     },
     "execution_count": 36,
     "metadata": {},
     "output_type": "execute_result"
    }
   ],
   "source": [
    "# Getting movie weights from our learner\n",
    "movie_w = learner.weight(top_m, is_item=True)\n",
    "movie_w.shape"
   ]
  },
  {
   "cell_type": "code",
   "execution_count": 37,
   "metadata": {},
   "outputs": [
    {
     "data": {
      "text/plain": [
       "torch.Size([1000, 3])"
      ]
     },
     "execution_count": 37,
     "metadata": {},
     "output_type": "execute_result"
    }
   ],
   "source": [
    "# Using fastai's PCA method to reduce the dimensionality \n",
    "# from 40 latent factors down to 3 \n",
    "movie_pca = movie_w.pca(3)\n",
    "movie_pca.shape"
   ]
  },
  {
   "cell_type": "code",
   "execution_count": 38,
   "metadata": {},
   "outputs": [],
   "source": [
    "# Creating vars for latent factors / features\n",
    "fac0, fac1, fac2 = movie_pca.t()\n",
    "movie_comp = [(f, i) for f, i in zip(fac0, top_m)]"
   ]
  },
  {
   "cell_type": "markdown",
   "metadata": {},
   "source": [
    "**An additional clarification is that the following latent factors / features won't necessarily mean anything intuitive. But studying them can give us an idea of the kind of features the learner has found amongst the users in the dataset.**"
   ]
  },
  {
   "cell_type": "code",
   "execution_count": 39,
   "metadata": {},
   "outputs": [
    {
     "data": {
      "text/plain": [
       "[(tensor(1.0910), 'Close Shave, A (1995)'),\n",
       " (tensor(1.0887), 'Wrong Trousers, The (1993)'),\n",
       " (tensor(1.0506), 'Lawrence of Arabia (1962)'),\n",
       " (tensor(1.0353), 'Casablanca (1942)'),\n",
       " (tensor(0.9878), 'Chinatown (1974)'),\n",
       " (tensor(0.9852), 'Persuasion (1995)'),\n",
       " (tensor(0.9614), 'When We Were Kings (1996)'),\n",
       " (tensor(0.9609),\n",
       "  'Dr. Strangelove or: How I Learned to Stop Worrying and Love the Bomb (1963)'),\n",
       " (tensor(0.9597), 'Citizen Kane (1941)'),\n",
       " (tensor(0.9578), 'Godfather, The (1972)')]"
      ]
     },
     "execution_count": 39,
     "metadata": {},
     "output_type": "execute_result"
    }
   ],
   "source": [
    "# Using fac0\n",
    "# Looks like the learner has picked up factors associated with\n",
    "# people who like classics or, in other words, film connoisseurs\n",
    "sorted(movie_comp, key=itemgetter(0), reverse=True)[:10]"
   ]
  },
  {
   "cell_type": "code",
   "execution_count": 40,
   "metadata": {},
   "outputs": [
    {
     "data": {
      "text/plain": [
       "[(tensor(-1.3589), 'Home Alone 3 (1997)'),\n",
       " (tensor(-1.2754), 'Jungle2Jungle (1997)'),\n",
       " (tensor(-1.2011), 'Children of the Corn: The Gathering (1996)'),\n",
       " (tensor(-1.1833), \"McHale's Navy (1997)\"),\n",
       " (tensor(-1.1502), 'D3: The Mighty Ducks (1996)'),\n",
       " (tensor(-1.1226), 'Congo (1995)'),\n",
       " (tensor(-1.1203), 'Bio-Dome (1996)'),\n",
       " (tensor(-1.1045), 'Leave It to Beaver (1997)'),\n",
       " (tensor(-1.0699), 'Mortal Kombat: Annihilation (1997)'),\n",
       " (tensor(-1.0592), 'Grease 2 (1982)')]"
      ]
     },
     "execution_count": 40,
     "metadata": {},
     "output_type": "execute_result"
    }
   ],
   "source": [
    "# For the same fac0, it is now obvious that the users who like the movies above\n",
    "# would naturally rank the following movies lower.\n",
    "sorted(movie_comp, key=itemgetter(0))[:10]"
   ]
  },
  {
   "cell_type": "code",
   "execution_count": 42,
   "metadata": {},
   "outputs": [],
   "source": [
    "# Using fac1 shows a feature of taste which indicates a preference for \n",
    "# blockbusters\n",
    "movie_comp = [(f, i) for f, i in zip(fac1, top_m)]"
   ]
  },
  {
   "cell_type": "code",
   "execution_count": 43,
   "metadata": {},
   "outputs": [
    {
     "data": {
      "text/plain": [
       "[(tensor(1.1889), 'Braveheart (1995)'),\n",
       " (tensor(1.0370), 'Titanic (1997)'),\n",
       " (tensor(0.9969), 'Raiders of the Lost Ark (1981)'),\n",
       " (tensor(0.9420), 'Forrest Gump (1994)'),\n",
       " (tensor(0.8979), \"It's a Wonderful Life (1946)\"),\n",
       " (tensor(0.8915), 'American President, The (1995)'),\n",
       " (tensor(0.8628), \"Mr. Holland's Opus (1995)\"),\n",
       " (tensor(0.8567), 'Pretty Woman (1990)'),\n",
       " (tensor(0.8340), 'Top Gun (1986)'),\n",
       " (tensor(0.8112), 'Independence Day (ID4) (1996)')]"
      ]
     },
     "execution_count": 43,
     "metadata": {},
     "output_type": "execute_result"
    }
   ],
   "source": [
    "sorted(movie_comp, key=itemgetter(0), reverse=True)[:10]"
   ]
  },
  {
   "cell_type": "code",
   "execution_count": 44,
   "metadata": {},
   "outputs": [
    {
     "data": {
      "text/plain": [
       "[(tensor(-0.8851), 'Trainspotting (1996)'),\n",
       " (tensor(-0.8500), 'Keys to Tulsa (1997)'),\n",
       " (tensor(-0.8407), 'Brazil (1985)'),\n",
       " (tensor(-0.8379), 'Ready to Wear (Pret-A-Porter) (1994)'),\n",
       " (tensor(-0.8046), 'Lost Highway (1997)'),\n",
       " (tensor(-0.7673), 'Clockwork Orange, A (1971)'),\n",
       " (tensor(-0.7611), 'Stupids, The (1996)'),\n",
       " (tensor(-0.7582), 'Cable Guy, The (1996)'),\n",
       " (tensor(-0.7493), 'Nosferatu (Nosferatu, eine Symphonie des Grauens) (1922)'),\n",
       " (tensor(-0.7206), 'Crumb (1994)')]"
      ]
     },
     "execution_count": 44,
     "metadata": {},
     "output_type": "execute_result"
    }
   ],
   "source": [
    "# The opposite being gritty, artsy movies\n",
    "sorted(movie_comp, key=itemgetter(0))[:10]"
   ]
  },
  {
   "cell_type": "code",
   "execution_count": 45,
   "metadata": {},
   "outputs": [],
   "source": [
    "# Using fac3\n",
    "movie_comp = [(f, i) for f, i in zip(fac2, top_m)]"
   ]
  },
  {
   "cell_type": "code",
   "execution_count": 46,
   "metadata": {},
   "outputs": [
    {
     "data": {
      "text/plain": [
       "[(tensor(0.5902), 'Sound of Music, The (1965)'),\n",
       " (tensor(0.5744), 'Gone with the Wind (1939)'),\n",
       " (tensor(0.5664), 'Old Yeller (1957)'),\n",
       " (tensor(0.5649), 'Dirty Dancing (1987)'),\n",
       " (tensor(0.5595),\n",
       "  'Garden of Finzi-Contini, The (Giardino dei Finzi-Contini, Il) (1970)'),\n",
       " (tensor(0.5421), 'To Kill a Mockingbird (1962)'),\n",
       " (tensor(0.5373), 'Bridges of Madison County, The (1995)'),\n",
       " (tensor(0.5135), 'Piano, The (1993)'),\n",
       " (tensor(0.5034), \"Breakfast at Tiffany's (1961)\"),\n",
       " (tensor(0.4984), 'Sabrina (1995)')]"
      ]
     },
     "execution_count": 46,
     "metadata": {},
     "output_type": "execute_result"
    }
   ],
   "source": [
    "sorted(movie_comp, key=itemgetter(0), reverse=True)[:10]"
   ]
  },
  {
   "cell_type": "code",
   "execution_count": 47,
   "metadata": {},
   "outputs": [
    {
     "data": {
      "text/plain": [
       "[(tensor(-0.9550), 'Terminator, The (1984)'),\n",
       " (tensor(-0.8830), 'Beavis and Butt-head Do America (1996)'),\n",
       " (tensor(-0.7887), 'Scream (1996)'),\n",
       " (tensor(-0.7801), 'Terminator 2: Judgment Day (1991)'),\n",
       " (tensor(-0.7770), 'Game, The (1997)'),\n",
       " (tensor(-0.7474), 'Pulp Fiction (1994)'),\n",
       " (tensor(-0.7188), 'Reservoir Dogs (1992)'),\n",
       " (tensor(-0.7076), 'Rock, The (1996)'),\n",
       " (tensor(-0.6839), 'Alien: Resurrection (1997)'),\n",
       " (tensor(-0.6413), 'Clerks (1994)')]"
      ]
     },
     "execution_count": 47,
     "metadata": {},
     "output_type": "execute_result"
    }
   ],
   "source": [
    "sorted(movie_comp, key=itemgetter(0))[:10]"
   ]
  },
  {
   "cell_type": "code",
   "execution_count": 48,
   "metadata": {},
   "outputs": [
    {
     "data": {
      "image/png": "[encoded data removed]",
      "text/plain": [
       "<Figure size 1152x1152 with 1 Axes>"
      ]
     },
     "metadata": {
      "needs_background": "light"
     },
     "output_type": "display_data"
    }
   ],
   "source": [
    "# Plotting\n",
    "idxs = np.random.choice(len(top_m), 40, replace=False)\n",
    "idxs = list(range(50))\n",
    "\n",
    "X = fac0[idxs]\n",
    "Y = fac1[idxs]\n",
    "\n",
    "plt.figure(figsize=(16, 16))\n",
    "plt.scatter(X, Y)\n",
    "for i, x, y in zip(top_m[idxs], X, Y):\n",
    "    plt.text(x, y, i, color=np.random.rand(3)*0.7, fontsize=11)\n",
    "plt.show();"
   ]
  },
  {
   "cell_type": "code",
   "execution_count": null,
   "metadata": {},
   "outputs": [],
   "source": []
  }
 ],
 "metadata": {
  "kernelspec": {
   "display_name": "Python 3",
   "language": "python",
   "name": "python3"
  },
  "language_info": {
   "codemirror_mode": {
    "name": "ipython",
    "version": 3
   },
   "file_extension": ".py",
   "mimetype": "text/x-python",
   "name": "python",
   "nbconvert_exporter": "python",
   "pygments_lexer": "ipython3",
   "version": "3.7.6"
  }
 },
 "nbformat": 4,
 "nbformat_minor": 2
}
